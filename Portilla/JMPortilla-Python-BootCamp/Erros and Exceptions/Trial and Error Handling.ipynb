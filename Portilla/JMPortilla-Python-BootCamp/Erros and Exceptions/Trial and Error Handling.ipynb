{
 "cells": [
  {
   "cell_type": "code",
   "execution_count": 1,
   "metadata": {
    "collapsed": false
   },
   "outputs": [
    {
     "name": "stdout",
     "output_type": "stream",
     "text": [
      "Was type error\n",
      "Got it\n"
     ]
    }
   ],
   "source": [
    "try:\n",
    "    2 + 's'\n",
    "except:\n",
    "    print(\"Was type error\")\n",
    "finally:\n",
    "    print(\"Got it\")\n",
    "    \n",
    "    "
   ]
  },
  {
   "cell_type": "code",
   "execution_count": 6,
   "metadata": {
    "collapsed": true
   },
   "outputs": [],
   "source": [
    "def askint():\n",
    "    try:\n",
    "        val = int(input(\"Type integer:  \"))\n",
    "    except:\n",
    "        print (\"No integer!\")\n",
    "        val = int(input(\"TRY AGAIN! Type integer:  \"))\n",
    "    finally: \n",
    "        print (\"Block executed!\")\n",
    "    print(val)"
   ]
  },
  {
   "cell_type": "code",
   "execution_count": 10,
   "metadata": {
    "collapsed": false
   },
   "outputs": [],
   "source": [
    "def askintagain():\n",
    "    \n",
    "    while True:\n",
    "        try:\n",
    "            val = int(input(\"Integer please: \"))\n",
    "        except:\n",
    "            print (\"Looks like it wasn't an integer!\")\n",
    "            continue\n",
    "        else:\n",
    "            print (\"Nice integer!\")\n",
    "            break\n",
    "        finally:\n",
    "            print (\"Finally executed!\")\n",
    "        print (val)"
   ]
  },
  {
   "cell_type": "code",
   "execution_count": 11,
   "metadata": {
    "collapsed": false
   },
   "outputs": [
    {
     "name": "stdout",
     "output_type": "stream",
     "text": [
      "Integer please: po\n",
      "Looks like it wasn't an integer!\n",
      "Finally executed!\n",
      "Integer please: po\n",
      "Looks like it wasn't an integer!\n",
      "Finally executed!\n",
      "Integer please: po\n",
      "Looks like it wasn't an integer!\n",
      "Finally executed!\n",
      "Integer please: 3\n",
      "Nice integer!\n",
      "Finally executed!\n"
     ]
    }
   ],
   "source": [
    "askintagain()"
   ]
  },
  {
   "cell_type": "code",
   "execution_count": null,
   "metadata": {
    "collapsed": true
   },
   "outputs": [],
   "source": []
  }
 ],
 "metadata": {
  "kernelspec": {
   "display_name": "Python 3",
   "language": "python",
   "name": "python3"
  },
  "language_info": {
   "codemirror_mode": {
    "name": "ipython",
    "version": 3
   },
   "file_extension": ".py",
   "mimetype": "text/x-python",
   "name": "python",
   "nbconvert_exporter": "python",
   "pygments_lexer": "ipython3",
   "version": "3.6.0"
  }
 },
 "nbformat": 4,
 "nbformat_minor": 2
}
